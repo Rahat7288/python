{
 "cells": [
  {
   "cell_type": "code",
   "execution_count": 1,
   "id": "4c83785d",
   "metadata": {},
   "outputs": [
    {
     "name": "stdout",
     "output_type": "stream",
     "text": [
      "[1, 2, 3, 4, 5]\n"
     ]
    }
   ],
   "source": [
    "#list in pyhton  its work as array but in this case we can use multiple value in a list\n",
    "integer = [1,2,3,4,5]\n",
    "print(integer)"
   ]
  },
  {
   "cell_type": "code",
   "execution_count": 5,
   "id": "ac473753",
   "metadata": {},
   "outputs": [
    {
     "name": "stdout",
     "output_type": "stream",
     "text": [
      "1\n",
      "2\n",
      "3\n",
      "4\n",
      "5\n",
      "Rahat\n",
      "Islam\n",
      "Akash\n",
      "1.22\n",
      "3.25\n",
      "6.17\n",
      "0.67\n"
     ]
    }
   ],
   "source": [
    "myList = [1,2,3,4,5,'Rahat','Islam','Akash',1.22,3.25,6.17,.67]\n",
    "\n",
    "for i in myList:\n",
    "    print(i)"
   ]
  },
  {
   "cell_type": "code",
   "execution_count": 10,
   "id": "f754eaf5",
   "metadata": {},
   "outputs": [
    {
     "name": "stdout",
     "output_type": "stream",
     "text": [
      "Rahat +\n",
      "Akash +\n",
      "islam +\n"
     ]
    }
   ],
   "source": [
    "newList = ['Rahat','Akash','islam']\n",
    "\n",
    "for i in range(len(newList)):\n",
    "    newList[i] = newList[i]+\" +\"\n",
    "    print(newList[i])"
   ]
  },
  {
   "cell_type": "code",
   "execution_count": 14,
   "id": "d334c752",
   "metadata": {},
   "outputs": [
    {
     "name": "stdout",
     "output_type": "stream",
     "text": [
      "[1, 2, 3, 4, 5]\n",
      "[1, 2, 69, 3, 4, 5]\n",
      "[1, 2, 69, 3, 4, 5, 55]\n",
      "[1, 2, 69, 3, 4, 5, 55, 'Rahat +', 'Akash +', 'islam +']\n"
     ]
    }
   ],
   "source": [
    "#insert items in the list\n",
    "anotherList = [1,2,3,4,5]\n",
    "print(anotherList)\n",
    "\n",
    "anotherList.insert(2, 69)\n",
    "print (anotherList)\n",
    "#append in the list,(add items in the end)\n",
    "\n",
    "anotherList.append(55)\n",
    "print(anotherList)\n",
    "\n",
    "#extend list\n",
    "\n",
    "anotherList.extend(newList)\n",
    "print (anotherList)\n"
   ]
  },
  {
   "cell_type": "code",
   "execution_count": null,
   "id": "78f6cc73",
   "metadata": {},
   "outputs": [],
   "source": []
  },
  {
   "cell_type": "code",
   "execution_count": null,
   "id": "f3759f82",
   "metadata": {},
   "outputs": [],
   "source": []
  }
 ],
 "metadata": {
  "kernelspec": {
   "display_name": "Python 3 (ipykernel)",
   "language": "python",
   "name": "python3"
  },
  "language_info": {
   "codemirror_mode": {
    "name": "ipython",
    "version": 3
   },
   "file_extension": ".py",
   "mimetype": "text/x-python",
   "name": "python",
   "nbconvert_exporter": "python",
   "pygments_lexer": "ipython3",
   "version": "3.10.2"
  }
 },
 "nbformat": 4,
 "nbformat_minor": 5
}
