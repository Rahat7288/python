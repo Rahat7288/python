{
 "cells": [
  {
   "cell_type": "code",
   "execution_count": 3,
   "id": "4faa20fc",
   "metadata": {},
   "outputs": [
    {
     "name": "stdout",
     "output_type": "stream",
     "text": [
      "1\n",
      "2\n",
      "3\n",
      "4\n",
      "5\n",
      "accessing the individual elements from the array\n",
      "3\n",
      "array('i', [1, 2, 3, 4, 5, 69])\n",
      "array('i', [1, 2, 3, 4, 5, 69, 70, 71, 77, 78])\n"
     ]
    }
   ],
   "source": [
    "#1.creating an array\n",
    "\n",
    "from array import *\n",
    "\n",
    "my_array = array('i',[1,2,3,4,5])\n",
    "\n",
    "for i in my_array:\n",
    "    print(i)\n",
    "    \n",
    "    \n",
    "#2. accessing individual elements inside the array\n",
    "\n",
    "print(\"accessing the individual elements from the array\")\n",
    "print(my_array[2])\n",
    "\n",
    "#3append anny value to the array\n",
    "\n",
    "my_array.append(69)\n",
    "print(my_array)\n",
    "\n",
    "#extend array using extend()\n",
    "\n",
    "my_array1 = array ('i',[70,71,77,78])\n",
    "my_array.extend(my_array1)\n",
    "print(my_array)\n"
   ]
  },
  {
   "cell_type": "code",
   "execution_count": null,
   "id": "9c7688cf",
   "metadata": {},
   "outputs": [],
   "source": []
  }
 ],
 "metadata": {
  "kernelspec": {
   "display_name": "Python 3 (ipykernel)",
   "language": "python",
   "name": "python3"
  },
  "language_info": {
   "codemirror_mode": {
    "name": "ipython",
    "version": 3
   },
   "file_extension": ".py",
   "mimetype": "text/x-python",
   "name": "python",
   "nbconvert_exporter": "python",
   "pygments_lexer": "ipython3",
   "version": "3.10.1"
  }
 },
 "nbformat": 4,
 "nbformat_minor": 5
}
