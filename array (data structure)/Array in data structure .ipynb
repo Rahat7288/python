{
 "cells": [
  {
   "cell_type": "code",
   "execution_count": 1,
   "id": "a5fad7b9",
   "metadata": {},
   "outputs": [
    {
     "name": "stdout",
     "output_type": "stream",
     "text": [
      "array('i', [1, 2, 3, 4, 5])\n"
     ]
    }
   ],
   "source": [
    "from array import *\n",
    "\n",
    "array1 = array ('i',[1,2,3,4,5])\n",
    "\n",
    "print(array1)"
   ]
  },
  {
   "cell_type": "code",
   "execution_count": 2,
   "id": "1af40dbc",
   "metadata": {},
   "outputs": [
    {
     "name": "stdout",
     "output_type": "stream",
     "text": [
      "array('i', [1, 2, 3, 4, 5, 8])\n"
     ]
    }
   ],
   "source": [
    "#inserting an eliment inside an array\n",
    "\n",
    "array1.insert(5, 8)\n",
    "print(array1)"
   ]
  },
  {
   "cell_type": "code",
   "execution_count": 4,
   "id": "7a6c620b",
   "metadata": {},
   "outputs": [
    {
     "name": "stdout",
     "output_type": "stream",
     "text": [
      "array('i', [1, 2, 3, 10, 4, 5, 8])\n"
     ]
    }
   ],
   "source": [
    "array1.insert (3,10)\n",
    "print(array1)"
   ]
  },
  {
   "cell_type": "code",
   "execution_count": 5,
   "id": "dd910f28",
   "metadata": {},
   "outputs": [
    {
     "name": "stdout",
     "output_type": "stream",
     "text": [
      "array('i', [25, 1, 2, 3, 10, 4, 5, 8])\n"
     ]
    }
   ],
   "source": [
    "array1.insert(0, 25)\n",
    "print(array1)"
   ]
  },
  {
   "cell_type": "code",
   "execution_count": 6,
   "id": "95c01023",
   "metadata": {},
   "outputs": [
    {
     "name": "stdout",
     "output_type": "stream",
     "text": [
      "25\n",
      "1\n",
      "2\n",
      "3\n",
      "10\n",
      "4\n",
      "5\n",
      "8\n"
     ]
    }
   ],
   "source": [
    "#traversal operation in array\n",
    "\n",
    "def traverseArray (array):\n",
    "    for i in array:\n",
    "        print(i)\n",
    "        \n",
    "traverseArray(array1)"
   ]
  },
  {
   "cell_type": "code",
   "execution_count": 7,
   "id": "58d705bd",
   "metadata": {},
   "outputs": [
    {
     "name": "stdout",
     "output_type": "stream",
     "text": [
      "4\n"
     ]
    }
   ],
   "source": [
    "#accessing the array element \n",
    "def accessArray (array, index):\n",
    "    if index >= len(array):\n",
    "        print(\"there is not an element in this array\")\n",
    "        \n",
    "    else:\n",
    "        print(array[index])\n",
    "        \n",
    "        \n",
    "accessArray(array1, 5)\n",
    "        \n",
    "    \n",
    "            "
   ]
  },
  {
   "cell_type": "code",
   "execution_count": 9,
   "id": "35ce0dcc",
   "metadata": {},
   "outputs": [
    {
     "data": {
      "text/plain": [
       "6"
      ]
     },
     "execution_count": 9,
     "metadata": {},
     "output_type": "execute_result"
    }
   ],
   "source": [
    "#searching for an element inside an array\n",
    "def searchInArray(array, value):\n",
    "    for i in array:\n",
    "        if i == value:\n",
    "            return array.index(value)\n",
    "    return \"the element dose not found inside the array\"\n",
    "\n",
    "searchInArray(array1, 5)"
   ]
  },
  {
   "cell_type": "code",
   "execution_count": 10,
   "id": "18234c1e",
   "metadata": {},
   "outputs": [
    {
     "name": "stdout",
     "output_type": "stream",
     "text": [
      "array('i', [1, 2, 3, 10, 4, 5, 8])\n"
     ]
    }
   ],
   "source": [
    "#deleting an element from an array\n",
    "\n",
    "\n",
    "array1.remove(25)\n",
    "print(array1)"
   ]
  },
  {
   "cell_type": "code",
   "execution_count": null,
   "id": "b625e272",
   "metadata": {},
   "outputs": [],
   "source": []
  }
 ],
 "metadata": {
  "kernelspec": {
   "display_name": "Python 3 (ipykernel)",
   "language": "python",
   "name": "python3"
  },
  "language_info": {
   "codemirror_mode": {
    "name": "ipython",
    "version": 3
   },
   "file_extension": ".py",
   "mimetype": "text/x-python",
   "name": "python",
   "nbconvert_exporter": "python",
   "pygments_lexer": "ipython3",
   "version": "3.10.1"
  }
 },
 "nbformat": 4,
 "nbformat_minor": 5
}
