{
 "cells": [
  {
   "cell_type": "code",
   "execution_count": 2,
   "id": "1fccfe22",
   "metadata": {},
   "outputs": [
    {
     "name": "stdout",
     "output_type": "stream",
     "text": [
      "[[ 1  2  3  4]\n",
      " [ 6  5  4  9]\n",
      " [11 22 33 44]\n",
      " [15 12  1  3]]\n"
     ]
    }
   ],
   "source": [
    "import numpy as np\n",
    "\n",
    "twoD = np.array([[1,2,3,4],[6,5,4,9],[11,22,33,44],[15,12,1,3]])\n",
    "print(twoD)"
   ]
  },
  {
   "cell_type": "code",
   "execution_count": 3,
   "id": "7acba56a",
   "metadata": {},
   "outputs": [
    {
     "name": "stdout",
     "output_type": "stream",
     "text": [
      "[[ 8  1  2  3  4]\n",
      " [ 5  6  5  4  9]\n",
      " [ 2 11 22 33 44]\n",
      " [ 3 15 12  1  3]]\n"
     ]
    }
   ],
   "source": [
    "#inserting new elements instide the two dimansional array\n",
    "newArray = np.insert(twoD, 0,[[8,5,2,3]], axis = 1)\n",
    "print(newArray)"
   ]
  },
  {
   "cell_type": "code",
   "execution_count": 4,
   "id": "3525523f",
   "metadata": {},
   "outputs": [
    {
     "name": "stdout",
     "output_type": "stream",
     "text": [
      "5\n"
     ]
    }
   ],
   "source": [
    "#accessing two dimansional array\n",
    "def accessElements(array, rowIndex, columnIndex):\n",
    "    if rowIndex >= len(array) and cloumnIndex >= len(array[0]):\n",
    "        print(\"invalid arrY\")\n",
    "        \n",
    "    else:\n",
    "        \n",
    "        print(array[rowIndex][columnIndex])\n",
    "        \n",
    "accessElements(newArray,1,2)\n",
    "            "
   ]
  },
  {
   "cell_type": "code",
   "execution_count": 10,
   "id": "a6ec3003",
   "metadata": {},
   "outputs": [
    {
     "name": "stdout",
     "output_type": "stream",
     "text": [
      "8\n",
      "1\n",
      "2\n",
      "3\n",
      "4\n",
      "5\n",
      "6\n",
      "5\n",
      "4\n",
      "9\n",
      "2\n",
      "11\n",
      "22\n",
      "33\n",
      "44\n",
      "3\n",
      "15\n",
      "12\n",
      "1\n",
      "3\n"
     ]
    }
   ],
   "source": [
    "#traversing the two dimansional array\n",
    "\n",
    "def traverse(array):\n",
    "        for i in range(len(array)):\n",
    "            for j in range(len(array[0])):\n",
    "                           print(array[i][j])\n",
    "                       \n",
    "traverse(newArray)                   "
   ]
  },
  {
   "cell_type": "code",
   "execution_count": 12,
   "id": "b65f0f9f",
   "metadata": {},
   "outputs": [
    {
     "data": {
      "text/plain": [
       "'the value i slocated at index: 2 4'"
      ]
     },
     "execution_count": 12,
     "metadata": {},
     "output_type": "execute_result"
    }
   ],
   "source": [
    "#searching in the two dimensional array\n",
    " \n",
    "def search(array, value):\n",
    "    for i in range(len(array)):\n",
    "        for j in range(len(array[0])):\n",
    "            if array[i][j] == value:\n",
    "                return 'the value i located at index: '+str(i)+\" \"+str(j)\n",
    "    return \"the element is not found\"\n",
    "\n",
    "\n",
    "search(newArray, 44)"
   ]
  },
  {
   "cell_type": "code",
   "execution_count": 13,
   "id": "79cf396f",
   "metadata": {},
   "outputs": [
    {
     "name": "stdout",
     "output_type": "stream",
     "text": [
      "[[ 1  2  3  4]\n",
      " [ 6  5  4  9]\n",
      " [11 22 33 44]\n",
      " [15 12  1  3]]\n"
     ]
    }
   ],
   "source": [
    "#deleting an element from an two dimensional array\n",
    "dArray = np.delete(newArray, 0, axis = 1)\n",
    "print(dArray)\n",
    "\n"
   ]
  },
  {
   "cell_type": "code",
   "execution_count": null,
   "id": "357fbc24",
   "metadata": {},
   "outputs": [],
   "source": [
    "\n",
    "\n",
    "\n",
    "\n",
    "\n",
    "\n",
    "\n",
    "\n",
    "\n",
    "\n",
    "\n",
    "\n",
    "\n",
    "\n",
    "\n",
    "\n",
    "\n"
   ]
  }
 ],
 "metadata": {
  "kernelspec": {
   "display_name": "Python 3 (ipykernel)",
   "language": "python",
   "name": "python3"
  },
  "language_info": {
   "codemirror_mode": {
    "name": "ipython",
    "version": 3
   },
   "file_extension": ".py",
   "mimetype": "text/x-python",
   "name": "python",
   "nbconvert_exporter": "python",
   "pygments_lexer": "ipython3",
   "version": "3.10.1"
  }
 },
 "nbformat": 4,
 "nbformat_minor": 5
}
