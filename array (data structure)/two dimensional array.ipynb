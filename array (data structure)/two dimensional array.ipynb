{
 "cells": [
  {
   "cell_type": "code",
   "execution_count": 6,
   "id": "1fccfe22",
   "metadata": {},
   "outputs": [
    {
     "name": "stdout",
     "output_type": "stream",
     "text": [
      "[[ 1  2  3  4]\n",
      " [ 6  5  4  9]\n",
      " [11 22 33 44]\n",
      " [15 12  1  3]]\n"
     ]
    }
   ],
   "source": [
    "import numpy as np\n",
    "\n",
    "twoD = np.array([[1,2,3,4],[6,5,4,9],[11,22,33,44],[15,12,1,3]])\n",
    "print(twoD)"
   ]
  },
  {
   "cell_type": "code",
   "execution_count": 7,
   "id": "7acba56a",
   "metadata": {},
   "outputs": [
    {
     "name": "stdout",
     "output_type": "stream",
     "text": [
      "[[ 8  1  2  3  4]\n",
      " [ 5  6  5  4  9]\n",
      " [ 2 11 22 33 44]\n",
      " [ 3 15 12  1  3]]\n"
     ]
    }
   ],
   "source": [
    "#inserting new elements instide the two dimansional array\n",
    "newArray = np.insert(twoD, 0,[[8,5,2,3]], axis = 1)\n",
    "print(newArray)"
   ]
  },
  {
   "cell_type": "code",
   "execution_count": 10,
   "id": "3525523f",
   "metadata": {},
   "outputs": [
    {
     "name": "stdout",
     "output_type": "stream",
     "text": [
      "5\n"
     ]
    }
   ],
   "source": [
    "def accessElements(array, rowIndex, columnIndex):\n",
    "    if rowIndex >= len(array) and cloumnIndex >= len(array[0]):\n",
    "        print(\"invalid arrY\")\n",
    "        \n",
    "    else:\n",
    "        \n",
    "        print(array[rowIndex][columnIndex])\n",
    "        \n",
    "accessElements(newArray,1,2)\n",
    "            "
   ]
  },
  {
   "cell_type": "code",
   "execution_count": null,
   "id": "a6ec3003",
   "metadata": {},
   "outputs": [],
   "source": []
  }
 ],
 "metadata": {
  "kernelspec": {
   "display_name": "Python 3 (ipykernel)",
   "language": "python",
   "name": "python3"
  },
  "language_info": {
   "codemirror_mode": {
    "name": "ipython",
    "version": 3
   },
   "file_extension": ".py",
   "mimetype": "text/x-python",
   "name": "python",
   "nbconvert_exporter": "python",
   "pygments_lexer": "ipython3",
   "version": "3.10.1"
  }
 },
 "nbformat": 4,
 "nbformat_minor": 5
}
